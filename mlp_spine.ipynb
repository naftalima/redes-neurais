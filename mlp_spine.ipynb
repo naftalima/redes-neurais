{
  "nbformat": 4,
  "nbformat_minor": 0,
  "metadata": {
    "colab": {
      "name": "mlp_spine.ipynb",
      "provenance": [],
      "collapsed_sections": []
    },
    "kernelspec": {
      "name": "python3",
      "display_name": "Python 3"
    }
  },
  "cells": [
    {
      "cell_type": "code",
      "metadata": {
        "id": "m-xHBChIrJS2",
        "colab_type": "code",
        "colab": {}
      },
      "source": [
        "# -*- coding: utf-8 -*-\n",
        "\"\"\"\n",
        "Created on Wed May  8 14:54:58 2019\n",
        "\n",
        "@author: Delgado\n",
        "Fonte: https://www.kaggle.com/ahmethamzaemra/mlpclassifier-example/notebook\n",
        "\"\"\"\n",
        "\n",
        "import numpy as np # linear algebra\n",
        "import pandas as pd # data processing, CSV file I/O (e.g. pd.read_csv)\n",
        "\n",
        "import matplotlib.pyplot as plt\n",
        "import seaborn as sns"
      ],
      "execution_count": 0,
      "outputs": []
    },
    {
      "cell_type": "code",
      "metadata": {
        "id": "SWlPhr-brkni",
        "colab_type": "code",
        "outputId": "548cbc7c-6857-4869-d588-3c37eb2231b3",
        "colab": {
          "base_uri": "https://localhost:8080/",
          "height": 309
        }
      },
      "source": [
        "df = pd.read_csv('Dataset_spine.csv')\n",
        "\n",
        "df.head()"
      ],
      "execution_count": 0,
      "outputs": [
        {
          "output_type": "execute_result",
          "data": {
            "text/html": [
              "<div>\n",
              "<style scoped>\n",
              "    .dataframe tbody tr th:only-of-type {\n",
              "        vertical-align: middle;\n",
              "    }\n",
              "\n",
              "    .dataframe tbody tr th {\n",
              "        vertical-align: top;\n",
              "    }\n",
              "\n",
              "    .dataframe thead th {\n",
              "        text-align: right;\n",
              "    }\n",
              "</style>\n",
              "<table border=\"1\" class=\"dataframe\">\n",
              "  <thead>\n",
              "    <tr style=\"text-align: right;\">\n",
              "      <th></th>\n",
              "      <th>Col1</th>\n",
              "      <th>Col2</th>\n",
              "      <th>Col3</th>\n",
              "      <th>Col4</th>\n",
              "      <th>Col5</th>\n",
              "      <th>Col6</th>\n",
              "      <th>Col7</th>\n",
              "      <th>Col8</th>\n",
              "      <th>Col9</th>\n",
              "      <th>Col10</th>\n",
              "      <th>Col11</th>\n",
              "      <th>Col12</th>\n",
              "      <th>Class_att</th>\n",
              "      <th>Unnamed: 13</th>\n",
              "    </tr>\n",
              "  </thead>\n",
              "  <tbody>\n",
              "    <tr>\n",
              "      <th>0</th>\n",
              "      <td>63.027818</td>\n",
              "      <td>22.552586</td>\n",
              "      <td>39.609117</td>\n",
              "      <td>40.475232</td>\n",
              "      <td>98.672917</td>\n",
              "      <td>-0.254400</td>\n",
              "      <td>0.744503</td>\n",
              "      <td>12.5661</td>\n",
              "      <td>14.5386</td>\n",
              "      <td>15.30468</td>\n",
              "      <td>-28.658501</td>\n",
              "      <td>43.5123</td>\n",
              "      <td>Abnormal</td>\n",
              "      <td>NaN</td>\n",
              "    </tr>\n",
              "    <tr>\n",
              "      <th>1</th>\n",
              "      <td>39.056951</td>\n",
              "      <td>10.060991</td>\n",
              "      <td>25.015378</td>\n",
              "      <td>28.995960</td>\n",
              "      <td>114.405425</td>\n",
              "      <td>4.564259</td>\n",
              "      <td>0.415186</td>\n",
              "      <td>12.8874</td>\n",
              "      <td>17.5323</td>\n",
              "      <td>16.78486</td>\n",
              "      <td>-25.530607</td>\n",
              "      <td>16.1102</td>\n",
              "      <td>Abnormal</td>\n",
              "      <td>NaN</td>\n",
              "    </tr>\n",
              "    <tr>\n",
              "      <th>2</th>\n",
              "      <td>68.832021</td>\n",
              "      <td>22.218482</td>\n",
              "      <td>50.092194</td>\n",
              "      <td>46.613539</td>\n",
              "      <td>105.985135</td>\n",
              "      <td>-3.530317</td>\n",
              "      <td>0.474889</td>\n",
              "      <td>26.8343</td>\n",
              "      <td>17.4861</td>\n",
              "      <td>16.65897</td>\n",
              "      <td>-29.031888</td>\n",
              "      <td>19.2221</td>\n",
              "      <td>Abnormal</td>\n",
              "      <td>Prediction is done by using binary classificat...</td>\n",
              "    </tr>\n",
              "    <tr>\n",
              "      <th>3</th>\n",
              "      <td>69.297008</td>\n",
              "      <td>24.652878</td>\n",
              "      <td>44.311238</td>\n",
              "      <td>44.644130</td>\n",
              "      <td>101.868495</td>\n",
              "      <td>11.211523</td>\n",
              "      <td>0.369345</td>\n",
              "      <td>23.5603</td>\n",
              "      <td>12.7074</td>\n",
              "      <td>11.42447</td>\n",
              "      <td>-30.470246</td>\n",
              "      <td>18.8329</td>\n",
              "      <td>Abnormal</td>\n",
              "      <td>NaN</td>\n",
              "    </tr>\n",
              "    <tr>\n",
              "      <th>4</th>\n",
              "      <td>49.712859</td>\n",
              "      <td>9.652075</td>\n",
              "      <td>28.317406</td>\n",
              "      <td>40.060784</td>\n",
              "      <td>108.168725</td>\n",
              "      <td>7.918501</td>\n",
              "      <td>0.543360</td>\n",
              "      <td>35.4940</td>\n",
              "      <td>15.9546</td>\n",
              "      <td>8.87237</td>\n",
              "      <td>-16.378376</td>\n",
              "      <td>24.9171</td>\n",
              "      <td>Abnormal</td>\n",
              "      <td>NaN</td>\n",
              "    </tr>\n",
              "  </tbody>\n",
              "</table>\n",
              "</div>"
            ],
            "text/plain": [
              "        Col1  ...                                        Unnamed: 13\n",
              "0  63.027818  ...                                                NaN\n",
              "1  39.056951  ...                                                NaN\n",
              "2  68.832021  ...  Prediction is done by using binary classificat...\n",
              "3  69.297008  ...                                                NaN\n",
              "4  49.712859  ...                                                NaN\n",
              "\n",
              "[5 rows x 14 columns]"
            ]
          },
          "metadata": {
            "tags": []
          },
          "execution_count": 2
        }
      ]
    },
    {
      "cell_type": "code",
      "metadata": {
        "id": "dWtxlUoWRuvO",
        "colab_type": "code",
        "colab": {}
      },
      "source": [
        "df = df.drop(['Unnamed: 13'], axis=1) #Removendo Coluna \"Unnamed: 13\""
      ],
      "execution_count": 0,
      "outputs": []
    },
    {
      "cell_type": "code",
      "metadata": {
        "id": "sr6N2IFasxjG",
        "colab_type": "code",
        "outputId": "9ca9a16e-3e93-4c74-bfed-482c35155c37",
        "colab": {
          "base_uri": "https://localhost:8080/",
          "height": 317
        }
      },
      "source": [
        "df.describe()"
      ],
      "execution_count": 0,
      "outputs": [
        {
          "output_type": "execute_result",
          "data": {
            "text/html": [
              "<div>\n",
              "<style scoped>\n",
              "    .dataframe tbody tr th:only-of-type {\n",
              "        vertical-align: middle;\n",
              "    }\n",
              "\n",
              "    .dataframe tbody tr th {\n",
              "        vertical-align: top;\n",
              "    }\n",
              "\n",
              "    .dataframe thead th {\n",
              "        text-align: right;\n",
              "    }\n",
              "</style>\n",
              "<table border=\"1\" class=\"dataframe\">\n",
              "  <thead>\n",
              "    <tr style=\"text-align: right;\">\n",
              "      <th></th>\n",
              "      <th>Col1</th>\n",
              "      <th>Col2</th>\n",
              "      <th>Col3</th>\n",
              "      <th>Col4</th>\n",
              "      <th>Col5</th>\n",
              "      <th>Col6</th>\n",
              "      <th>Col7</th>\n",
              "      <th>Col8</th>\n",
              "      <th>Col9</th>\n",
              "      <th>Col10</th>\n",
              "      <th>Col11</th>\n",
              "      <th>Col12</th>\n",
              "    </tr>\n",
              "  </thead>\n",
              "  <tbody>\n",
              "    <tr>\n",
              "      <th>count</th>\n",
              "      <td>310.000000</td>\n",
              "      <td>310.000000</td>\n",
              "      <td>310.000000</td>\n",
              "      <td>310.000000</td>\n",
              "      <td>310.000000</td>\n",
              "      <td>310.000000</td>\n",
              "      <td>310.000000</td>\n",
              "      <td>310.000000</td>\n",
              "      <td>310.000000</td>\n",
              "      <td>310.000000</td>\n",
              "      <td>310.000000</td>\n",
              "      <td>310.000000</td>\n",
              "    </tr>\n",
              "    <tr>\n",
              "      <th>mean</th>\n",
              "      <td>60.496653</td>\n",
              "      <td>17.542822</td>\n",
              "      <td>51.930930</td>\n",
              "      <td>42.953831</td>\n",
              "      <td>117.920655</td>\n",
              "      <td>26.296694</td>\n",
              "      <td>0.472979</td>\n",
              "      <td>21.321526</td>\n",
              "      <td>13.064511</td>\n",
              "      <td>11.933317</td>\n",
              "      <td>-14.053139</td>\n",
              "      <td>25.645981</td>\n",
              "    </tr>\n",
              "    <tr>\n",
              "      <th>std</th>\n",
              "      <td>17.236520</td>\n",
              "      <td>10.008330</td>\n",
              "      <td>18.554064</td>\n",
              "      <td>13.423102</td>\n",
              "      <td>13.317377</td>\n",
              "      <td>37.559027</td>\n",
              "      <td>0.285787</td>\n",
              "      <td>8.639423</td>\n",
              "      <td>3.399713</td>\n",
              "      <td>2.893265</td>\n",
              "      <td>12.225582</td>\n",
              "      <td>10.450558</td>\n",
              "    </tr>\n",
              "    <tr>\n",
              "      <th>min</th>\n",
              "      <td>26.147921</td>\n",
              "      <td>-6.554948</td>\n",
              "      <td>14.000000</td>\n",
              "      <td>13.366931</td>\n",
              "      <td>70.082575</td>\n",
              "      <td>-11.058179</td>\n",
              "      <td>0.003220</td>\n",
              "      <td>7.027000</td>\n",
              "      <td>7.037800</td>\n",
              "      <td>7.030600</td>\n",
              "      <td>-35.287375</td>\n",
              "      <td>7.007900</td>\n",
              "    </tr>\n",
              "    <tr>\n",
              "      <th>25%</th>\n",
              "      <td>46.430294</td>\n",
              "      <td>10.667069</td>\n",
              "      <td>37.000000</td>\n",
              "      <td>33.347122</td>\n",
              "      <td>110.709196</td>\n",
              "      <td>1.603727</td>\n",
              "      <td>0.224367</td>\n",
              "      <td>13.054400</td>\n",
              "      <td>10.417800</td>\n",
              "      <td>9.541140</td>\n",
              "      <td>-24.289522</td>\n",
              "      <td>17.189075</td>\n",
              "    </tr>\n",
              "    <tr>\n",
              "      <th>50%</th>\n",
              "      <td>58.691038</td>\n",
              "      <td>16.357689</td>\n",
              "      <td>49.562398</td>\n",
              "      <td>42.404912</td>\n",
              "      <td>118.268178</td>\n",
              "      <td>11.767934</td>\n",
              "      <td>0.475989</td>\n",
              "      <td>21.907150</td>\n",
              "      <td>12.938450</td>\n",
              "      <td>11.953835</td>\n",
              "      <td>-14.622856</td>\n",
              "      <td>24.931950</td>\n",
              "    </tr>\n",
              "    <tr>\n",
              "      <th>75%</th>\n",
              "      <td>72.877696</td>\n",
              "      <td>22.120395</td>\n",
              "      <td>63.000000</td>\n",
              "      <td>52.695888</td>\n",
              "      <td>125.467674</td>\n",
              "      <td>41.287352</td>\n",
              "      <td>0.704846</td>\n",
              "      <td>28.954075</td>\n",
              "      <td>15.889525</td>\n",
              "      <td>14.371810</td>\n",
              "      <td>-3.497094</td>\n",
              "      <td>33.979600</td>\n",
              "    </tr>\n",
              "    <tr>\n",
              "      <th>max</th>\n",
              "      <td>129.834041</td>\n",
              "      <td>49.431864</td>\n",
              "      <td>125.742385</td>\n",
              "      <td>121.429566</td>\n",
              "      <td>163.071041</td>\n",
              "      <td>418.543082</td>\n",
              "      <td>0.998827</td>\n",
              "      <td>36.743900</td>\n",
              "      <td>19.324000</td>\n",
              "      <td>16.821080</td>\n",
              "      <td>6.972071</td>\n",
              "      <td>44.341200</td>\n",
              "    </tr>\n",
              "  </tbody>\n",
              "</table>\n",
              "</div>"
            ],
            "text/plain": [
              "             Col1        Col2        Col3  ...       Col10       Col11       Col12\n",
              "count  310.000000  310.000000  310.000000  ...  310.000000  310.000000  310.000000\n",
              "mean    60.496653   17.542822   51.930930  ...   11.933317  -14.053139   25.645981\n",
              "std     17.236520   10.008330   18.554064  ...    2.893265   12.225582   10.450558\n",
              "min     26.147921   -6.554948   14.000000  ...    7.030600  -35.287375    7.007900\n",
              "25%     46.430294   10.667069   37.000000  ...    9.541140  -24.289522   17.189075\n",
              "50%     58.691038   16.357689   49.562398  ...   11.953835  -14.622856   24.931950\n",
              "75%     72.877696   22.120395   63.000000  ...   14.371810   -3.497094   33.979600\n",
              "max    129.834041   49.431864  125.742385  ...   16.821080    6.972071   44.341200\n",
              "\n",
              "[8 rows x 12 columns]"
            ]
          },
          "metadata": {
            "tags": []
          },
          "execution_count": 4
        }
      ]
    },
    {
      "cell_type": "code",
      "metadata": {
        "id": "Q_askBp9nfc6",
        "colab_type": "code",
        "outputId": "57295e48-8d81-4451-b450-72075c7e26f8",
        "colab": {
          "base_uri": "https://localhost:8080/",
          "height": 323
        }
      },
      "source": [
        "df.info()"
      ],
      "execution_count": 0,
      "outputs": [
        {
          "output_type": "stream",
          "text": [
            "<class 'pandas.core.frame.DataFrame'>\n",
            "RangeIndex: 310 entries, 0 to 309\n",
            "Data columns (total 13 columns):\n",
            "Col1         310 non-null float64\n",
            "Col2         310 non-null float64\n",
            "Col3         310 non-null float64\n",
            "Col4         310 non-null float64\n",
            "Col5         310 non-null float64\n",
            "Col6         310 non-null float64\n",
            "Col7         310 non-null float64\n",
            "Col8         310 non-null float64\n",
            "Col9         310 non-null float64\n",
            "Col10        310 non-null float64\n",
            "Col11        310 non-null float64\n",
            "Col12        310 non-null float64\n",
            "Class_att    310 non-null object\n",
            "dtypes: float64(12), object(1)\n",
            "memory usage: 31.6+ KB\n"
          ],
          "name": "stdout"
        }
      ]
    },
    {
      "cell_type": "code",
      "metadata": {
        "id": "mKnxdolXtEKB",
        "colab_type": "code",
        "outputId": "9753e3c6-3857-4aa6-f7d8-565c75c59250",
        "colab": {
          "base_uri": "https://localhost:8080/",
          "height": 54
        }
      },
      "source": [
        "\"\"\"\n",
        "Col7 -> pelvic_slope -> inclinação pélvica\n",
        "Col8 -> Direct_tilt -> Inclinação direta\n",
        "Col9 -> thoracic_slope -> inclinação torácico\n",
        "Col10 -> cervical_tilt - >inclinação cervical\n",
        "Col11 -> sacrum_angle -> ângulo de sacro\n",
        "Col12 -> scoliosis_slope -> inclinação da escoliose\n",
        "\"\"\""
      ],
      "execution_count": 0,
      "outputs": [
        {
          "output_type": "execute_result",
          "data": {
            "text/plain": [
              "'\\nCol7 -> pelvic_slope -> inclinação pélvica\\nCol8 -> Direct_tilt -> Inclinação direta\\nCol9 -> thoracic_slope -> inclinação torácico\\nCol10 -> cervical_tilt - >inclinação cervical\\nCol11 -> sacrum_angle -> ângulo de sacro\\nCol12 -> scoliosis_slope -> inclinação da escoliose\\n'"
            ]
          },
          "metadata": {
            "tags": []
          },
          "execution_count": 6
        }
      ]
    },
    {
      "cell_type": "code",
      "metadata": {
        "id": "Sh4eauwAX9X2",
        "colab_type": "code",
        "outputId": "ea2d5a18-b480-42df-8f4e-35bfa67451f3",
        "colab": {
          "base_uri": "https://localhost:8080/",
          "height": 269
        }
      },
      "source": [
        "boxplot = df.boxplot(column=['Col1', 'Col2', 'Col3', 'Col4', 'Col5', 'Col6', 'Col7', 'Col8', 'Col9',\n",
        "       'Col10', 'Col11', 'Col12'])"
      ],
      "execution_count": 0,
      "outputs": [
        {
          "output_type": "display_data",
          "data": {
            "image/png": "[encoded data removed]",
            "text/plain": [
              "<Figure size 432x288 with 1 Axes>"
            ]
          },
          "metadata": {
            "tags": []
          }
        }
      ]
    },
    {
      "cell_type": "code",
      "metadata": {
        "id": "BVDtyP0GtFOu",
        "colab_type": "code",
        "outputId": "7cd858f5-325b-47aa-b0ea-b9b364d5ff92",
        "colab": {
          "base_uri": "https://localhost:8080/",
          "height": 204
        }
      },
      "source": [
        "df = df.drop(['Col7','Col8','Col9','Col10','Col11','Col12'], axis=1)\n",
        "\n",
        "df.head()\n",
        "\n"
      ],
      "execution_count": 0,
      "outputs": [
        {
          "output_type": "execute_result",
          "data": {
            "text/html": [
              "<div>\n",
              "<style scoped>\n",
              "    .dataframe tbody tr th:only-of-type {\n",
              "        vertical-align: middle;\n",
              "    }\n",
              "\n",
              "    .dataframe tbody tr th {\n",
              "        vertical-align: top;\n",
              "    }\n",
              "\n",
              "    .dataframe thead th {\n",
              "        text-align: right;\n",
              "    }\n",
              "</style>\n",
              "<table border=\"1\" class=\"dataframe\">\n",
              "  <thead>\n",
              "    <tr style=\"text-align: right;\">\n",
              "      <th></th>\n",
              "      <th>Col1</th>\n",
              "      <th>Col2</th>\n",
              "      <th>Col3</th>\n",
              "      <th>Col4</th>\n",
              "      <th>Col5</th>\n",
              "      <th>Col6</th>\n",
              "      <th>Class_att</th>\n",
              "    </tr>\n",
              "  </thead>\n",
              "  <tbody>\n",
              "    <tr>\n",
              "      <th>0</th>\n",
              "      <td>63.027818</td>\n",
              "      <td>22.552586</td>\n",
              "      <td>39.609117</td>\n",
              "      <td>40.475232</td>\n",
              "      <td>98.672917</td>\n",
              "      <td>-0.254400</td>\n",
              "      <td>Abnormal</td>\n",
              "    </tr>\n",
              "    <tr>\n",
              "      <th>1</th>\n",
              "      <td>39.056951</td>\n",
              "      <td>10.060991</td>\n",
              "      <td>25.015378</td>\n",
              "      <td>28.995960</td>\n",
              "      <td>114.405425</td>\n",
              "      <td>4.564259</td>\n",
              "      <td>Abnormal</td>\n",
              "    </tr>\n",
              "    <tr>\n",
              "      <th>2</th>\n",
              "      <td>68.832021</td>\n",
              "      <td>22.218482</td>\n",
              "      <td>50.092194</td>\n",
              "      <td>46.613539</td>\n",
              "      <td>105.985135</td>\n",
              "      <td>-3.530317</td>\n",
              "      <td>Abnormal</td>\n",
              "    </tr>\n",
              "    <tr>\n",
              "      <th>3</th>\n",
              "      <td>69.297008</td>\n",
              "      <td>24.652878</td>\n",
              "      <td>44.311238</td>\n",
              "      <td>44.644130</td>\n",
              "      <td>101.868495</td>\n",
              "      <td>11.211523</td>\n",
              "      <td>Abnormal</td>\n",
              "    </tr>\n",
              "    <tr>\n",
              "      <th>4</th>\n",
              "      <td>49.712859</td>\n",
              "      <td>9.652075</td>\n",
              "      <td>28.317406</td>\n",
              "      <td>40.060784</td>\n",
              "      <td>108.168725</td>\n",
              "      <td>7.918501</td>\n",
              "      <td>Abnormal</td>\n",
              "    </tr>\n",
              "  </tbody>\n",
              "</table>\n",
              "</div>"
            ],
            "text/plain": [
              "        Col1       Col2       Col3       Col4        Col5       Col6 Class_att\n",
              "0  63.027818  22.552586  39.609117  40.475232   98.672917  -0.254400  Abnormal\n",
              "1  39.056951  10.060991  25.015378  28.995960  114.405425   4.564259  Abnormal\n",
              "2  68.832021  22.218482  50.092194  46.613539  105.985135  -3.530317  Abnormal\n",
              "3  69.297008  24.652878  44.311238  44.644130  101.868495  11.211523  Abnormal\n",
              "4  49.712859   9.652075  28.317406  40.060784  108.168725   7.918501  Abnormal"
            ]
          },
          "metadata": {
            "tags": []
          },
          "execution_count": 8
        }
      ]
    },
    {
      "cell_type": "code",
      "metadata": {
        "id": "OZDhfE0z1S9i",
        "colab_type": "code",
        "colab": {}
      },
      "source": [
        "from sklearn.neural_network import MLPClassifier\n",
        "from sklearn.model_selection import train_test_split\n",
        "from sklearn.metrics import accuracy_score\n",
        "from sklearn.metrics import confusion_matrix, classification_report\n",
        "\n",
        "y = df['Class_att']\n",
        "x = df.drop(['Class_att'], axis=1)\n",
        "\n",
        "x_train, x_test, y_train, y_test = train_test_split(x,y, test_size= 0.25, random_state=27)"
      ],
      "execution_count": 0,
      "outputs": []
    },
    {
      "cell_type": "code",
      "metadata": {
        "id": "0gItbF3OtSSG",
        "colab_type": "code",
        "outputId": "3b721fa1-5bc1-486c-daa1-2b91842e555e",
        "colab": {
          "base_uri": "https://localhost:8080/",
          "height": 2006
        }
      },
      "source": [
        "clf = MLPClassifier(hidden_layer_sizes=(100,100,100), max_iter=500, alpha=0.0001,\n",
        "                     solver='sgd', verbose=10,  random_state=21,tol=0.000000001)\n",
        "clf.fit(x_train, y_train)"
      ],
      "execution_count": 0,
      "outputs": [
        {
          "output_type": "stream",
          "text": [
            "Iteration 1, loss = inf\n",
            "Iteration 2, loss = 8.74253469\n",
            "Iteration 3, loss = 1.55562179\n",
            "Iteration 4, loss = 0.94416556\n",
            "Iteration 5, loss = 1.50851327\n",
            "Iteration 6, loss = 0.50784081\n",
            "Iteration 7, loss = 0.39918410\n",
            "Iteration 8, loss = 0.37867398\n",
            "Iteration 9, loss = 0.37472479\n",
            "Iteration 10, loss = 0.34567928\n",
            "Iteration 11, loss = 0.34293793\n",
            "Iteration 12, loss = 0.33180054\n",
            "Iteration 13, loss = 0.33138624\n",
            "Iteration 14, loss = 0.32280653\n",
            "Iteration 15, loss = 0.32238711\n",
            "Iteration 16, loss = 0.33164385\n",
            "Iteration 17, loss = 0.31229600\n",
            "Iteration 18, loss = 0.30823387\n",
            "Iteration 19, loss = 0.32317560\n",
            "Iteration 20, loss = 0.30697614\n",
            "Iteration 21, loss = 0.30901736\n",
            "Iteration 22, loss = 0.35327698\n",
            "Iteration 23, loss = 0.31835192\n",
            "Iteration 24, loss = 0.30599160\n",
            "Iteration 25, loss = 0.30315921\n",
            "Iteration 26, loss = 0.30774646\n",
            "Iteration 27, loss = 0.30939928\n",
            "Iteration 28, loss = 0.30205629\n",
            "Iteration 29, loss = 0.30492366\n",
            "Iteration 30, loss = 0.30627954\n",
            "Iteration 31, loss = 0.32245209\n",
            "Iteration 32, loss = 0.30092367\n",
            "Iteration 33, loss = 0.32289947\n",
            "Iteration 34, loss = 0.30300054\n",
            "Iteration 35, loss = 0.29623179\n",
            "Iteration 36, loss = 0.29708219\n",
            "Iteration 37, loss = 0.30250871\n",
            "Iteration 38, loss = 0.29467717\n",
            "Iteration 39, loss = 0.29677633\n",
            "Iteration 40, loss = 0.29248421\n",
            "Iteration 41, loss = 0.29520714\n",
            "Iteration 42, loss = 0.34293079\n",
            "Iteration 43, loss = 0.29191404\n",
            "Iteration 44, loss = 0.29066025\n",
            "Iteration 45, loss = 0.29314507\n",
            "Iteration 46, loss = 0.30713375\n",
            "Iteration 47, loss = 0.28961352\n",
            "Iteration 48, loss = 0.29269266\n",
            "Iteration 49, loss = 0.35675684\n",
            "Iteration 50, loss = 0.29497979\n",
            "Iteration 51, loss = 0.32161702\n",
            "Iteration 52, loss = 0.31725676\n",
            "Iteration 53, loss = 0.28841341\n",
            "Iteration 54, loss = 0.32379049\n",
            "Iteration 55, loss = 0.30023310\n",
            "Iteration 56, loss = 0.30758373\n",
            "Iteration 57, loss = 0.29833024\n",
            "Iteration 58, loss = 0.30977012\n",
            "Iteration 59, loss = 0.28748498\n",
            "Iteration 60, loss = 0.30416906\n",
            "Iteration 61, loss = 0.31005774\n",
            "Iteration 62, loss = 0.29357602\n",
            "Iteration 63, loss = 0.29838988\n",
            "Iteration 64, loss = 0.28817921\n",
            "Iteration 65, loss = 0.31316590\n",
            "Iteration 66, loss = 0.28847521\n",
            "Iteration 67, loss = 0.28735284\n",
            "Iteration 68, loss = 0.29273707\n",
            "Iteration 69, loss = 0.31120553\n",
            "Iteration 70, loss = 0.28602647\n",
            "Iteration 71, loss = 0.28878231\n",
            "Iteration 72, loss = 0.28673847\n",
            "Iteration 73, loss = 0.29844198\n",
            "Iteration 74, loss = 0.28573291\n",
            "Iteration 75, loss = 0.28849915\n",
            "Iteration 76, loss = 0.30711551\n",
            "Iteration 77, loss = 0.28537053\n",
            "Iteration 78, loss = 0.28906500\n",
            "Iteration 79, loss = 0.31497841\n",
            "Iteration 80, loss = 0.32441142\n",
            "Iteration 81, loss = 0.30927713\n",
            "Iteration 82, loss = 0.28468929\n",
            "Iteration 83, loss = 0.28284050\n",
            "Iteration 84, loss = 0.28486940\n",
            "Iteration 85, loss = 0.28324834\n",
            "Iteration 86, loss = 0.28635970\n",
            "Iteration 87, loss = 0.28255922\n",
            "Iteration 88, loss = 0.28968301\n",
            "Iteration 89, loss = 0.28914169\n",
            "Iteration 90, loss = 0.41232697\n",
            "Iteration 91, loss = 0.33779084\n",
            "Iteration 92, loss = 0.30298213\n",
            "Iteration 93, loss = 0.29320069\n",
            "Iteration 94, loss = 0.28770790\n",
            "Iteration 95, loss = 0.29386661\n",
            "Iteration 96, loss = 0.30271605\n",
            "Iteration 97, loss = 0.31373311\n",
            "Iteration 98, loss = 0.28213563\n",
            "Iteration 99, loss = 0.32039083\n",
            "Iteration 100, loss = 0.28225381\n",
            "Iteration 101, loss = 0.28239536\n",
            "Iteration 102, loss = 0.28888423\n",
            "Iteration 103, loss = 0.40146253\n",
            "Iteration 104, loss = 0.28481547\n",
            "Iteration 105, loss = 0.28301174\n",
            "Iteration 106, loss = 0.28824478\n",
            "Iteration 107, loss = 0.28220960\n",
            "Iteration 108, loss = 0.29126322\n",
            "Iteration 109, loss = 0.28446019\n",
            "Training loss did not improve more than tol=0.000000 for 10 consecutive epochs. Stopping.\n"
          ],
          "name": "stdout"
        },
        {
          "output_type": "execute_result",
          "data": {
            "text/plain": [
              "MLPClassifier(activation='relu', alpha=0.0001, batch_size='auto', beta_1=0.9,\n",
              "              beta_2=0.999, early_stopping=False, epsilon=1e-08,\n",
              "              hidden_layer_sizes=(100, 100, 100), learning_rate='constant',\n",
              "              learning_rate_init=0.001, max_iter=500, momentum=0.9,\n",
              "              n_iter_no_change=10, nesterovs_momentum=True, power_t=0.5,\n",
              "              random_state=21, shuffle=True, solver='sgd', tol=1e-09,\n",
              "              validation_fraction=0.1, verbose=10, warm_start=False)"
            ]
          },
          "metadata": {
            "tags": []
          },
          "execution_count": 10
        }
      ]
    },
    {
      "cell_type": "code",
      "metadata": {
        "id": "t8cJt64ZthJ7",
        "colab_type": "code",
        "outputId": "fd8d77f6-9b3a-42d9-8eed-9fcc687eae94",
        "colab": {
          "base_uri": "https://localhost:8080/",
          "height": 34
        }
      },
      "source": [
        "y_pred = clf.predict(x_test)\n",
        "accuracy = accuracy_score(y_test, y_pred)\n",
        "print(accuracy)\n"
      ],
      "execution_count": 0,
      "outputs": [
        {
          "output_type": "stream",
          "text": [
            "0.7948717948717948\n"
          ],
          "name": "stdout"
        }
      ]
    },
    {
      "cell_type": "code",
      "metadata": {
        "id": "nBofa_EGtuoM",
        "colab_type": "code",
        "outputId": "5e780c82-0c10-4d96-d9c5-82bfa53fbab4",
        "colab": {
          "base_uri": "https://localhost:8080/",
          "height": 269
        }
      },
      "source": [
        "cm = confusion_matrix(y_test, y_pred)\n",
        "\n",
        "sns.heatmap(cm, center=True)\n",
        "plt.show()"
      ],
      "execution_count": 0,
      "outputs": [
        {
          "output_type": "display_data",
          "data": {
            "image/png": "[encoded data removed]",
            "text/plain": [
              "<Figure size 432x288 with 2 Axes>"
            ]
          },
          "metadata": {
            "tags": []
          }
        }
      ]
    },
    {
      "cell_type": "code",
      "metadata": {
        "id": "LBv_xhBUwVQT",
        "colab_type": "code",
        "outputId": "a34df316-436a-46b8-9016-b85846f0e651",
        "colab": {
          "base_uri": "https://localhost:8080/",
          "height": 170
        }
      },
      "source": [
        "report = classification_report(y_test, y_pred)\n",
        "print(report)"
      ],
      "execution_count": 0,
      "outputs": [
        {
          "output_type": "stream",
          "text": [
            "              precision    recall  f1-score   support\n",
            "\n",
            "    Abnormal       0.93      0.75      0.83        53\n",
            "      Normal       0.63      0.88      0.73        25\n",
            "\n",
            "    accuracy                           0.79        78\n",
            "   macro avg       0.78      0.82      0.78        78\n",
            "weighted avg       0.83      0.79      0.80        78\n",
            "\n"
          ],
          "name": "stdout"
        }
      ]
    }
  ]
}