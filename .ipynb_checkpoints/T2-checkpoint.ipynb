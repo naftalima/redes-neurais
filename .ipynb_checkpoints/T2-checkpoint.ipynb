{
 "cells": [
  {
   "cell_type": "markdown",
   "metadata": {
    "colab_type": "text",
    "id": "view-in-github"
   },
   "source": [
    "<a href=\"https://colab.research.google.com/github/naftalima/redes-neurais/blob/master/mlp_spine.ipynb\" target=\"_parent\"><img src=\"https://colab.research.google.com/assets/colab-badge.svg\" alt=\"Open In Colab\"/></a>"
   ]
  },
  {
   "cell_type": "code",
   "execution_count": 1,
   "metadata": {
    "colab": {},
    "colab_type": "code",
    "id": "m-xHBChIrJS2"
   },
   "outputs": [],
   "source": [
    "# -*- coding: utf-8 -*-\n",
    "\"\"\"\n",
    "Created on Wed May  8 14:54:58 2019\n",
    "\n",
    "@author: Delgado\n",
    "Fonte: https://www.kaggle.com/ahmethamzaemra/mlpclassifier-example/notebook\n",
    "\"\"\"\n",
    "\n",
    "import numpy as np # linear algebra\n",
    "import pandas as pd # data processing, CSV file I/O (e.g. pd.read_csv)\n",
    "\n",
    "import matplotlib.pyplot as plt\n",
    "import seaborn as sns"
   ]
  },
  {
   "cell_type": "code",
   "execution_count": 2,
   "metadata": {
    "colab": {
     "base_uri": "https://localhost:8080/",
     "height": 309
    },
    "colab_type": "code",
    "id": "SWlPhr-brkni",
    "outputId": "548cbc7c-6857-4869-d588-3c37eb2231b3"
   },
   "outputs": [
    {
     "data": {
      "text/html": [
       "<div>\n",
       "<style scoped>\n",
       "    .dataframe tbody tr th:only-of-type {\n",
       "        vertical-align: middle;\n",
       "    }\n",
       "\n",
       "    .dataframe tbody tr th {\n",
       "        vertical-align: top;\n",
       "    }\n",
       "\n",
       "    .dataframe thead th {\n",
       "        text-align: right;\n",
       "    }\n",
       "</style>\n",
       "<table border=\"1\" class=\"dataframe\">\n",
       "  <thead>\n",
       "    <tr style=\"text-align: right;\">\n",
       "      <th></th>\n",
       "      <th>Col1</th>\n",
       "      <th>Col2</th>\n",
       "      <th>Col3</th>\n",
       "      <th>Col4</th>\n",
       "      <th>Col5</th>\n",
       "      <th>Col6</th>\n",
       "      <th>Col7</th>\n",
       "      <th>Col8</th>\n",
       "      <th>Col9</th>\n",
       "      <th>Col10</th>\n",
       "      <th>Col11</th>\n",
       "      <th>Col12</th>\n",
       "      <th>Class_att</th>\n",
       "      <th>Unnamed: 13</th>\n",
       "    </tr>\n",
       "  </thead>\n",
       "  <tbody>\n",
       "    <tr>\n",
       "      <th>0</th>\n",
       "      <td>63.027818</td>\n",
       "      <td>22.552586</td>\n",
       "      <td>39.609117</td>\n",
       "      <td>40.475232</td>\n",
       "      <td>98.672917</td>\n",
       "      <td>-0.254400</td>\n",
       "      <td>0.744503</td>\n",
       "      <td>12.5661</td>\n",
       "      <td>14.5386</td>\n",
       "      <td>15.30468</td>\n",
       "      <td>-28.658501</td>\n",
       "      <td>43.5123</td>\n",
       "      <td>Abnormal</td>\n",
       "      <td>NaN</td>\n",
       "    </tr>\n",
       "    <tr>\n",
       "      <th>1</th>\n",
       "      <td>39.056951</td>\n",
       "      <td>10.060991</td>\n",
       "      <td>25.015378</td>\n",
       "      <td>28.995960</td>\n",
       "      <td>114.405425</td>\n",
       "      <td>4.564259</td>\n",
       "      <td>0.415186</td>\n",
       "      <td>12.8874</td>\n",
       "      <td>17.5323</td>\n",
       "      <td>16.78486</td>\n",
       "      <td>-25.530607</td>\n",
       "      <td>16.1102</td>\n",
       "      <td>Abnormal</td>\n",
       "      <td>NaN</td>\n",
       "    </tr>\n",
       "    <tr>\n",
       "      <th>2</th>\n",
       "      <td>68.832021</td>\n",
       "      <td>22.218482</td>\n",
       "      <td>50.092194</td>\n",
       "      <td>46.613539</td>\n",
       "      <td>105.985135</td>\n",
       "      <td>-3.530317</td>\n",
       "      <td>0.474889</td>\n",
       "      <td>26.8343</td>\n",
       "      <td>17.4861</td>\n",
       "      <td>16.65897</td>\n",
       "      <td>-29.031888</td>\n",
       "      <td>19.2221</td>\n",
       "      <td>Abnormal</td>\n",
       "      <td>Prediction is done by using binary classificat...</td>\n",
       "    </tr>\n",
       "    <tr>\n",
       "      <th>3</th>\n",
       "      <td>69.297008</td>\n",
       "      <td>24.652878</td>\n",
       "      <td>44.311238</td>\n",
       "      <td>44.644130</td>\n",
       "      <td>101.868495</td>\n",
       "      <td>11.211523</td>\n",
       "      <td>0.369345</td>\n",
       "      <td>23.5603</td>\n",
       "      <td>12.7074</td>\n",
       "      <td>11.42447</td>\n",
       "      <td>-30.470246</td>\n",
       "      <td>18.8329</td>\n",
       "      <td>Abnormal</td>\n",
       "      <td>NaN</td>\n",
       "    </tr>\n",
       "    <tr>\n",
       "      <th>4</th>\n",
       "      <td>49.712859</td>\n",
       "      <td>9.652075</td>\n",
       "      <td>28.317406</td>\n",
       "      <td>40.060784</td>\n",
       "      <td>108.168725</td>\n",
       "      <td>7.918501</td>\n",
       "      <td>0.543360</td>\n",
       "      <td>35.4940</td>\n",
       "      <td>15.9546</td>\n",
       "      <td>8.87237</td>\n",
       "      <td>-16.378376</td>\n",
       "      <td>24.9171</td>\n",
       "      <td>Abnormal</td>\n",
       "      <td>NaN</td>\n",
       "    </tr>\n",
       "  </tbody>\n",
       "</table>\n",
       "</div>"
      ],
      "text/plain": [
       "        Col1       Col2       Col3       Col4        Col5       Col6  \\\n",
       "0  63.027818  22.552586  39.609117  40.475232   98.672917  -0.254400   \n",
       "1  39.056951  10.060991  25.015378  28.995960  114.405425   4.564259   \n",
       "2  68.832021  22.218482  50.092194  46.613539  105.985135  -3.530317   \n",
       "3  69.297008  24.652878  44.311238  44.644130  101.868495  11.211523   \n",
       "4  49.712859   9.652075  28.317406  40.060784  108.168725   7.918501   \n",
       "\n",
       "       Col7     Col8     Col9     Col10      Col11    Col12 Class_att  \\\n",
       "0  0.744503  12.5661  14.5386  15.30468 -28.658501  43.5123  Abnormal   \n",
       "1  0.415186  12.8874  17.5323  16.78486 -25.530607  16.1102  Abnormal   \n",
       "2  0.474889  26.8343  17.4861  16.65897 -29.031888  19.2221  Abnormal   \n",
       "3  0.369345  23.5603  12.7074  11.42447 -30.470246  18.8329  Abnormal   \n",
       "4  0.543360  35.4940  15.9546   8.87237 -16.378376  24.9171  Abnormal   \n",
       "\n",
       "                                         Unnamed: 13  \n",
       "0                                                NaN  \n",
       "1                                                NaN  \n",
       "2  Prediction is done by using binary classificat...  \n",
       "3                                                NaN  \n",
       "4                                                NaN  "
      ]
     },
     "execution_count": 2,
     "metadata": {},
     "output_type": "execute_result"
    }
   ],
   "source": [
    "df = pd.read_csv('Dataset_spine.csv')\n",
    "\n",
    "df.head()"
   ]
  },
  {
   "cell_type": "code",
   "execution_count": 3,
   "metadata": {
    "colab": {},
    "colab_type": "code",
    "id": "dWtxlUoWRuvO"
   },
   "outputs": [],
   "source": [
    "df = df.drop(['Unnamed: 13'], axis=1) #Removendo Coluna \"Unnamed: 13\""
   ]
  },
  {
   "cell_type": "code",
   "execution_count": 4,
   "metadata": {
    "colab": {
     "base_uri": "https://localhost:8080/",
     "height": 317
    },
    "colab_type": "code",
    "id": "sr6N2IFasxjG",
    "outputId": "9ca9a16e-3e93-4c74-bfed-482c35155c37"
   },
   "outputs": [
    {
     "data": {
      "text/html": [
       "<div>\n",
       "<style scoped>\n",
       "    .dataframe tbody tr th:only-of-type {\n",
       "        vertical-align: middle;\n",
       "    }\n",
       "\n",
       "    .dataframe tbody tr th {\n",
       "        vertical-align: top;\n",
       "    }\n",
       "\n",
       "    .dataframe thead th {\n",
       "        text-align: right;\n",
       "    }\n",
       "</style>\n",
       "<table border=\"1\" class=\"dataframe\">\n",
       "  <thead>\n",
       "    <tr style=\"text-align: right;\">\n",
       "      <th></th>\n",
       "      <th>Col1</th>\n",
       "      <th>Col2</th>\n",
       "      <th>Col3</th>\n",
       "      <th>Col4</th>\n",
       "      <th>Col5</th>\n",
       "      <th>Col6</th>\n",
       "      <th>Col7</th>\n",
       "      <th>Col8</th>\n",
       "      <th>Col9</th>\n",
       "      <th>Col10</th>\n",
       "      <th>Col11</th>\n",
       "      <th>Col12</th>\n",
       "    </tr>\n",
       "  </thead>\n",
       "  <tbody>\n",
       "    <tr>\n",
       "      <th>count</th>\n",
       "      <td>310.000000</td>\n",
       "      <td>310.000000</td>\n",
       "      <td>310.000000</td>\n",
       "      <td>310.000000</td>\n",
       "      <td>310.000000</td>\n",
       "      <td>310.000000</td>\n",
       "      <td>310.000000</td>\n",
       "      <td>310.000000</td>\n",
       "      <td>310.000000</td>\n",
       "      <td>310.000000</td>\n",
       "      <td>310.000000</td>\n",
       "      <td>310.000000</td>\n",
       "    </tr>\n",
       "    <tr>\n",
       "      <th>mean</th>\n",
       "      <td>60.496653</td>\n",
       "      <td>17.542822</td>\n",
       "      <td>51.930930</td>\n",
       "      <td>42.953831</td>\n",
       "      <td>117.920655</td>\n",
       "      <td>26.296694</td>\n",
       "      <td>0.472979</td>\n",
       "      <td>21.321526</td>\n",
       "      <td>13.064511</td>\n",
       "      <td>11.933317</td>\n",
       "      <td>-14.053139</td>\n",
       "      <td>25.645981</td>\n",
       "    </tr>\n",
       "    <tr>\n",
       "      <th>std</th>\n",
       "      <td>17.236520</td>\n",
       "      <td>10.008330</td>\n",
       "      <td>18.554064</td>\n",
       "      <td>13.423102</td>\n",
       "      <td>13.317377</td>\n",
       "      <td>37.559027</td>\n",
       "      <td>0.285787</td>\n",
       "      <td>8.639423</td>\n",
       "      <td>3.399713</td>\n",
       "      <td>2.893265</td>\n",
       "      <td>12.225582</td>\n",
       "      <td>10.450558</td>\n",
       "    </tr>\n",
       "    <tr>\n",
       "      <th>min</th>\n",
       "      <td>26.147921</td>\n",
       "      <td>-6.554948</td>\n",
       "      <td>14.000000</td>\n",
       "      <td>13.366931</td>\n",
       "      <td>70.082575</td>\n",
       "      <td>-11.058179</td>\n",
       "      <td>0.003220</td>\n",
       "      <td>7.027000</td>\n",
       "      <td>7.037800</td>\n",
       "      <td>7.030600</td>\n",
       "      <td>-35.287375</td>\n",
       "      <td>7.007900</td>\n",
       "    </tr>\n",
       "    <tr>\n",
       "      <th>25%</th>\n",
       "      <td>46.430294</td>\n",
       "      <td>10.667069</td>\n",
       "      <td>37.000000</td>\n",
       "      <td>33.347122</td>\n",
       "      <td>110.709196</td>\n",
       "      <td>1.603727</td>\n",
       "      <td>0.224367</td>\n",
       "      <td>13.054400</td>\n",
       "      <td>10.417800</td>\n",
       "      <td>9.541140</td>\n",
       "      <td>-24.289522</td>\n",
       "      <td>17.189075</td>\n",
       "    </tr>\n",
       "    <tr>\n",
       "      <th>50%</th>\n",
       "      <td>58.691038</td>\n",
       "      <td>16.357689</td>\n",
       "      <td>49.562398</td>\n",
       "      <td>42.404912</td>\n",
       "      <td>118.268178</td>\n",
       "      <td>11.767934</td>\n",
       "      <td>0.475989</td>\n",
       "      <td>21.907150</td>\n",
       "      <td>12.938450</td>\n",
       "      <td>11.953835</td>\n",
       "      <td>-14.622856</td>\n",
       "      <td>24.931950</td>\n",
       "    </tr>\n",
       "    <tr>\n",
       "      <th>75%</th>\n",
       "      <td>72.877696</td>\n",
       "      <td>22.120395</td>\n",
       "      <td>63.000000</td>\n",
       "      <td>52.695888</td>\n",
       "      <td>125.467674</td>\n",
       "      <td>41.287352</td>\n",
       "      <td>0.704846</td>\n",
       "      <td>28.954075</td>\n",
       "      <td>15.889525</td>\n",
       "      <td>14.371810</td>\n",
       "      <td>-3.497094</td>\n",
       "      <td>33.979600</td>\n",
       "    </tr>\n",
       "    <tr>\n",
       "      <th>max</th>\n",
       "      <td>129.834041</td>\n",
       "      <td>49.431864</td>\n",
       "      <td>125.742385</td>\n",
       "      <td>121.429566</td>\n",
       "      <td>163.071041</td>\n",
       "      <td>418.543082</td>\n",
       "      <td>0.998827</td>\n",
       "      <td>36.743900</td>\n",
       "      <td>19.324000</td>\n",
       "      <td>16.821080</td>\n",
       "      <td>6.972071</td>\n",
       "      <td>44.341200</td>\n",
       "    </tr>\n",
       "  </tbody>\n",
       "</table>\n",
       "</div>"
      ],
      "text/plain": [
       "             Col1        Col2        Col3        Col4        Col5        Col6  \\\n",
       "count  310.000000  310.000000  310.000000  310.000000  310.000000  310.000000   \n",
       "mean    60.496653   17.542822   51.930930   42.953831  117.920655   26.296694   \n",
       "std     17.236520   10.008330   18.554064   13.423102   13.317377   37.559027   \n",
       "min     26.147921   -6.554948   14.000000   13.366931   70.082575  -11.058179   \n",
       "25%     46.430294   10.667069   37.000000   33.347122  110.709196    1.603727   \n",
       "50%     58.691038   16.357689   49.562398   42.404912  118.268178   11.767934   \n",
       "75%     72.877696   22.120395   63.000000   52.695888  125.467674   41.287352   \n",
       "max    129.834041   49.431864  125.742385  121.429566  163.071041  418.543082   \n",
       "\n",
       "             Col7        Col8        Col9       Col10       Col11       Col12  \n",
       "count  310.000000  310.000000  310.000000  310.000000  310.000000  310.000000  \n",
       "mean     0.472979   21.321526   13.064511   11.933317  -14.053139   25.645981  \n",
       "std      0.285787    8.639423    3.399713    2.893265   12.225582   10.450558  \n",
       "min      0.003220    7.027000    7.037800    7.030600  -35.287375    7.007900  \n",
       "25%      0.224367   13.054400   10.417800    9.541140  -24.289522   17.189075  \n",
       "50%      0.475989   21.907150   12.938450   11.953835  -14.622856   24.931950  \n",
       "75%      0.704846   28.954075   15.889525   14.371810   -3.497094   33.979600  \n",
       "max      0.998827   36.743900   19.324000   16.821080    6.972071   44.341200  "
      ]
     },
     "execution_count": 4,
     "metadata": {},
     "output_type": "execute_result"
    }
   ],
   "source": [
    "df.describe()"
   ]
  },
  {
   "cell_type": "code",
   "execution_count": 5,
   "metadata": {
    "colab": {
     "base_uri": "https://localhost:8080/",
     "height": 323
    },
    "colab_type": "code",
    "id": "Q_askBp9nfc6",
    "outputId": "57295e48-8d81-4451-b450-72075c7e26f8",
    "scrolled": true
   },
   "outputs": [
    {
     "name": "stdout",
     "output_type": "stream",
     "text": [
      "<class 'pandas.core.frame.DataFrame'>\n",
      "RangeIndex: 310 entries, 0 to 309\n",
      "Data columns (total 13 columns):\n",
      "Col1         310 non-null float64\n",
      "Col2         310 non-null float64\n",
      "Col3         310 non-null float64\n",
      "Col4         310 non-null float64\n",
      "Col5         310 non-null float64\n",
      "Col6         310 non-null float64\n",
      "Col7         310 non-null float64\n",
      "Col8         310 non-null float64\n",
      "Col9         310 non-null float64\n",
      "Col10        310 non-null float64\n",
      "Col11        310 non-null float64\n",
      "Col12        310 non-null float64\n",
      "Class_att    310 non-null object\n",
      "dtypes: float64(12), object(1)\n",
      "memory usage: 31.6+ KB\n"
     ]
    }
   ],
   "source": [
    "df.info()"
   ]
  },
  {
   "cell_type": "code",
   "execution_count": 6,
   "metadata": {
    "colab": {
     "base_uri": "https://localhost:8080/",
     "height": 54
    },
    "colab_type": "code",
    "id": "mKnxdolXtEKB",
    "outputId": "9753e3c6-3857-4aa6-f7d8-565c75c59250"
   },
   "outputs": [
    {
     "data": {
      "text/plain": [
       "'\\nCol7 -> pelvic_slope -> inclinação pélvica\\nCol8 -> Direct_tilt -> Inclinação direta\\nCol9 -> thoracic_slope -> inclinação torácico\\nCol10 -> cervical_tilt - >inclinação cervical\\nCol11 -> sacrum_angle -> ângulo de sacro\\nCol12 -> scoliosis_slope -> inclinação da escoliose\\n'"
      ]
     },
     "execution_count": 6,
     "metadata": {},
     "output_type": "execute_result"
    }
   ],
   "source": [
    "\"\"\"\n",
    "Col7 -> pelvic_slope -> inclinação pélvica\n",
    "Col8 -> Direct_tilt -> Inclinação direta\n",
    "Col9 -> thoracic_slope -> inclinação torácico\n",
    "Col10 -> cervical_tilt - >inclinação cervical\n",
    "Col11 -> sacrum_angle -> ângulo de sacro\n",
    "Col12 -> scoliosis_slope -> inclinação da escoliose\n",
    "\"\"\""
   ]
  },
  {
   "cell_type": "code",
   "execution_count": 7,
   "metadata": {
    "colab": {
     "base_uri": "https://localhost:8080/",
     "height": 269
    },
    "colab_type": "code",
    "id": "Sh4eauwAX9X2",
    "outputId": "ea2d5a18-b480-42df-8f4e-35bfa67451f3",
    "scrolled": true
   },
   "outputs": [
    {
     "data": {
      "image/png": "[encoded data removed]",
      "text/plain": [
       "<Figure size 432x288 with 1 Axes>"
      ]
     },
     "metadata": {
      "needs_background": "light"
     },
     "output_type": "display_data"
    }
   ],
   "source": [
    "boxplot = df.boxplot(column=['Col1', 'Col2', 'Col3', 'Col4', 'Col5', 'Col6', 'Col7', 'Col8', 'Col9',\n",
    "       'Col10', 'Col11', 'Col12'])"
   ]
  },
  {
   "cell_type": "code",
   "execution_count": 8,
   "metadata": {
    "colab": {
     "base_uri": "https://localhost:8080/",
     "height": 204
    },
    "colab_type": "code",
    "id": "BVDtyP0GtFOu",
    "outputId": "7cd858f5-325b-47aa-b0ea-b9b364d5ff92",
    "scrolled": true
   },
   "outputs": [
    {
     "data": {
      "text/html": [
       "<div>\n",
       "<style scoped>\n",
       "    .dataframe tbody tr th:only-of-type {\n",
       "        vertical-align: middle;\n",
       "    }\n",
       "\n",
       "    .dataframe tbody tr th {\n",
       "        vertical-align: top;\n",
       "    }\n",
       "\n",
       "    .dataframe thead th {\n",
       "        text-align: right;\n",
       "    }\n",
       "</style>\n",
       "<table border=\"1\" class=\"dataframe\">\n",
       "  <thead>\n",
       "    <tr style=\"text-align: right;\">\n",
       "      <th></th>\n",
       "      <th>Col1</th>\n",
       "      <th>Col2</th>\n",
       "      <th>Col3</th>\n",
       "      <th>Col4</th>\n",
       "      <th>Col5</th>\n",
       "      <th>Col6</th>\n",
       "      <th>Class_att</th>\n",
       "    </tr>\n",
       "  </thead>\n",
       "  <tbody>\n",
       "    <tr>\n",
       "      <th>0</th>\n",
       "      <td>63.027818</td>\n",
       "      <td>22.552586</td>\n",
       "      <td>39.609117</td>\n",
       "      <td>40.475232</td>\n",
       "      <td>98.672917</td>\n",
       "      <td>-0.254400</td>\n",
       "      <td>Abnormal</td>\n",
       "    </tr>\n",
       "    <tr>\n",
       "      <th>1</th>\n",
       "      <td>39.056951</td>\n",
       "      <td>10.060991</td>\n",
       "      <td>25.015378</td>\n",
       "      <td>28.995960</td>\n",
       "      <td>114.405425</td>\n",
       "      <td>4.564259</td>\n",
       "      <td>Abnormal</td>\n",
       "    </tr>\n",
       "    <tr>\n",
       "      <th>2</th>\n",
       "      <td>68.832021</td>\n",
       "      <td>22.218482</td>\n",
       "      <td>50.092194</td>\n",
       "      <td>46.613539</td>\n",
       "      <td>105.985135</td>\n",
       "      <td>-3.530317</td>\n",
       "      <td>Abnormal</td>\n",
       "    </tr>\n",
       "    <tr>\n",
       "      <th>3</th>\n",
       "      <td>69.297008</td>\n",
       "      <td>24.652878</td>\n",
       "      <td>44.311238</td>\n",
       "      <td>44.644130</td>\n",
       "      <td>101.868495</td>\n",
       "      <td>11.211523</td>\n",
       "      <td>Abnormal</td>\n",
       "    </tr>\n",
       "    <tr>\n",
       "      <th>4</th>\n",
       "      <td>49.712859</td>\n",
       "      <td>9.652075</td>\n",
       "      <td>28.317406</td>\n",
       "      <td>40.060784</td>\n",
       "      <td>108.168725</td>\n",
       "      <td>7.918501</td>\n",
       "      <td>Abnormal</td>\n",
       "    </tr>\n",
       "  </tbody>\n",
       "</table>\n",
       "</div>"
      ],
      "text/plain": [
       "        Col1       Col2       Col3       Col4        Col5       Col6 Class_att\n",
       "0  63.027818  22.552586  39.609117  40.475232   98.672917  -0.254400  Abnormal\n",
       "1  39.056951  10.060991  25.015378  28.995960  114.405425   4.564259  Abnormal\n",
       "2  68.832021  22.218482  50.092194  46.613539  105.985135  -3.530317  Abnormal\n",
       "3  69.297008  24.652878  44.311238  44.644130  101.868495  11.211523  Abnormal\n",
       "4  49.712859   9.652075  28.317406  40.060784  108.168725   7.918501  Abnormal"
      ]
     },
     "execution_count": 8,
     "metadata": {},
     "output_type": "execute_result"
    }
   ],
   "source": [
    "df = df.drop(['Col7','Col8','Col9','Col10','Col11','Col12'], axis=1)\n",
    "\n",
    "df.head()\n",
    "\n"
   ]
  },
  {
   "cell_type": "code",
   "execution_count": 9,
   "metadata": {
    "colab": {},
    "colab_type": "code",
    "id": "OZDhfE0z1S9i"
   },
   "outputs": [],
   "source": [
    "from sklearn.neural_network import MLPClassifier\n",
    "from sklearn.model_selection import train_test_split\n",
    "from sklearn.metrics import accuracy_score\n",
    "from sklearn.metrics import confusion_matrix, classification_report\n",
    "\n",
    "y = df['Class_att']\n",
    "x = df.drop(['Class_att'], axis=1)\n",
    "\n",
    "x_train, x_test, y_train, y_test = train_test_split(x,y, test_size= 0.25, random_state=27)"
   ]
  },
  {
   "cell_type": "code",
   "execution_count": 10,
   "metadata": {
    "colab": {
     "base_uri": "https://localhost:8080/",
     "height": 2006
    },
    "colab_type": "code",
    "id": "0gItbF3OtSSG",
    "outputId": "3b721fa1-5bc1-486c-daa1-2b91842e555e",
    "scrolled": true
   },
   "outputs": [
    {
     "name": "stdout",
     "output_type": "stream",
     "text": [
      "Iteration 1, loss = 11.64006838\n",
      "Iteration 2, loss = 13.46662534\n",
      "Iteration 3, loss = 3.83511946\n",
      "Iteration 4, loss = 2.84626233\n",
      "Iteration 5, loss = 1.59617769\n",
      "Iteration 6, loss = 0.98191110\n",
      "Iteration 7, loss = 1.01197122\n",
      "Iteration 8, loss = 1.18898419\n",
      "Iteration 9, loss = 0.82847246\n",
      "Iteration 10, loss = 0.81903033\n",
      "Iteration 11, loss = 0.68004349\n",
      "Iteration 12, loss = 0.68962666\n",
      "Iteration 13, loss = 0.70416424\n",
      "Iteration 14, loss = 0.66151892\n",
      "Iteration 15, loss = 0.57481294\n",
      "Iteration 16, loss = 0.58470280\n",
      "Iteration 17, loss = 0.56371141\n",
      "Iteration 18, loss = 0.58071918\n",
      "Iteration 19, loss = 0.52035246\n",
      "Iteration 20, loss = 0.51704537\n",
      "Iteration 21, loss = 0.63255104\n",
      "Iteration 22, loss = 0.53954364\n",
      "Iteration 23, loss = 0.64119327\n",
      "Iteration 24, loss = 0.48580134\n",
      "Iteration 25, loss = 0.46236146\n",
      "Iteration 26, loss = 0.48585283\n",
      "Iteration 27, loss = 0.68637440\n",
      "Iteration 28, loss = 0.46051170\n",
      "Iteration 29, loss = 0.43663302\n",
      "Iteration 30, loss = 0.52305096\n",
      "Iteration 31, loss = 0.42397156\n",
      "Iteration 32, loss = 0.40145803\n",
      "Iteration 33, loss = 0.40942498\n",
      "Iteration 34, loss = 0.37330049\n",
      "Iteration 35, loss = 0.41436694\n",
      "Iteration 36, loss = 0.86553185\n",
      "Iteration 37, loss = 0.38224010\n",
      "Iteration 38, loss = 0.45872738\n",
      "Iteration 39, loss = 0.35536497\n",
      "Iteration 40, loss = 0.34286536\n",
      "Iteration 41, loss = 0.35613758\n",
      "Iteration 42, loss = 0.54273565\n",
      "Iteration 43, loss = 0.36073275\n",
      "Iteration 44, loss = 0.36165061\n",
      "Iteration 45, loss = 0.32767489\n",
      "Iteration 46, loss = 0.32671327\n",
      "Iteration 47, loss = 0.54425750\n",
      "Iteration 48, loss = 0.32651154\n",
      "Iteration 49, loss = 0.74959910\n",
      "Iteration 50, loss = 0.42103249\n",
      "Iteration 51, loss = 0.33634646\n",
      "Iteration 52, loss = 0.42335153\n",
      "Iteration 53, loss = 0.31661786\n",
      "Iteration 54, loss = 0.45896262\n",
      "Iteration 55, loss = 0.31349955\n",
      "Iteration 56, loss = 0.36427010\n",
      "Iteration 57, loss = 0.38204099\n",
      "Iteration 58, loss = 0.31016344\n",
      "Iteration 59, loss = 0.32931477\n",
      "Iteration 60, loss = 0.36829084\n",
      "Iteration 61, loss = 0.34888641\n",
      "Iteration 62, loss = 0.31971084\n",
      "Iteration 63, loss = 0.31535435\n",
      "Iteration 64, loss = 0.31777796\n",
      "Iteration 65, loss = 0.33882165\n",
      "Iteration 66, loss = 0.30982199\n",
      "Iteration 67, loss = 0.30357011\n",
      "Iteration 68, loss = 0.30434624\n",
      "Iteration 69, loss = 0.33650504\n",
      "Iteration 70, loss = 0.32704550\n",
      "Iteration 71, loss = 0.30309467\n",
      "Iteration 72, loss = 0.33291151\n",
      "Iteration 73, loss = 0.31084649\n",
      "Iteration 74, loss = 0.34341607\n",
      "Iteration 75, loss = 0.33961054\n",
      "Iteration 76, loss = 0.33946912\n",
      "Iteration 77, loss = 0.41228050\n",
      "Iteration 78, loss = 0.32798779\n",
      "Iteration 79, loss = 0.32622195\n",
      "Iteration 80, loss = 0.38292925\n",
      "Iteration 81, loss = 0.31336483\n",
      "Iteration 82, loss = 0.39193410\n",
      "Training loss did not improve more than tol=0.000000 for 10 consecutive epochs. Stopping.\n"
     ]
    },
    {
     "data": {
      "text/plain": [
       "MLPClassifier(activation='relu', alpha=0.0001, batch_size='auto', beta_1=0.9,\n",
       "              beta_2=0.999, early_stopping=False, epsilon=1e-08,\n",
       "              hidden_layer_sizes=100, learning_rate='constant',\n",
       "              learning_rate_init=0.001, max_iter=500, momentum=0.9,\n",
       "              n_iter_no_change=10, nesterovs_momentum=True, power_t=0.5,\n",
       "              random_state=21, shuffle=True, solver='sgd', tol=1e-09,\n",
       "              validation_fraction=0.1, verbose=10, warm_start=False)"
      ]
     },
     "execution_count": 10,
     "metadata": {},
     "output_type": "execute_result"
    }
   ],
   "source": [
    "clf = MLPClassifier(hidden_layer_sizes=(100), max_iter=500, alpha=0.0001,\n",
    "                     solver='sgd', verbose=10,  random_state=21,tol=0.000000001)\n",
    "clf.fit(x_train, y_train)"
   ]
  },
  {
   "cell_type": "code",
   "execution_count": 11,
   "metadata": {
    "colab": {
     "base_uri": "https://localhost:8080/",
     "height": 34
    },
    "colab_type": "code",
    "id": "t8cJt64ZthJ7",
    "outputId": "fd8d77f6-9b3a-42d9-8eed-9fcc687eae94"
   },
   "outputs": [
    {
     "name": "stdout",
     "output_type": "stream",
     "text": [
      "0.7564102564102564\n"
     ]
    }
   ],
   "source": [
    "y_pred = clf.predict(x_test)\n",
    "accuracy = accuracy_score(y_test, y_pred)\n",
    "print(accuracy)\n"
   ]
  },
  {
   "cell_type": "code",
   "execution_count": 12,
   "metadata": {
    "colab": {
     "base_uri": "https://localhost:8080/",
     "height": 269
    },
    "colab_type": "code",
    "id": "nBofa_EGtuoM",
    "outputId": "5e780c82-0c10-4d96-d9c5-82bfa53fbab4"
   },
   "outputs": [
    {
     "data": {
      "image/png": "[encoded data removed]",
      "text/plain": [
       "<Figure size 432x288 with 2 Axes>"
      ]
     },
     "metadata": {
      "needs_background": "light"
     },
     "output_type": "display_data"
    }
   ],
   "source": [
    "cm = confusion_matrix(y_test, y_pred)\n",
    "\n",
    "sns.heatmap(cm, center=True)\n",
    "plt.show()"
   ]
  },
  {
   "cell_type": "code",
   "execution_count": 13,
   "metadata": {
    "colab": {
     "base_uri": "https://localhost:8080/",
     "height": 170
    },
    "colab_type": "code",
    "id": "LBv_xhBUwVQT",
    "outputId": "a34df316-436a-46b8-9016-b85846f0e651"
   },
   "outputs": [
    {
     "name": "stdout",
     "output_type": "stream",
     "text": [
      "              precision    recall  f1-score   support\n",
      "\n",
      "    Abnormal       0.77      0.92      0.84        53\n",
      "      Normal       0.71      0.40      0.51        25\n",
      "\n",
      "    accuracy                           0.76        78\n",
      "   macro avg       0.74      0.66      0.68        78\n",
      "weighted avg       0.75      0.76      0.73        78\n",
      "\n"
     ]
    }
   ],
   "source": [
    "report = classification_report(y_test, y_pred)\n",
    "print(report)"
   ]
  }
 ],
 "metadata": {
  "colab": {
   "collapsed_sections": [],
   "include_colab_link": true,
   "name": "mlp_spine.ipynb",
   "provenance": []
  },
  "kernelspec": {
   "display_name": "Python 3",
   "language": "python",
   "name": "python3"
  },
  "language_info": {
   "codemirror_mode": {
    "name": "ipython",
    "version": 3
   },
   "file_extension": ".py",
   "mimetype": "text/x-python",
   "name": "python",
   "nbconvert_exporter": "python",
   "pygments_lexer": "ipython3",
   "version": "3.6.8"
  }
 },
 "nbformat": 4,
 "nbformat_minor": 1
}
